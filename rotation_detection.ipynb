{
 "cells": [
  {
   "cell_type": "code",
   "execution_count": 190,
   "metadata": {},
   "outputs": [],
   "source": [
    "import pandas as pd\n",
    "import numpy as np\n",
    "import matplotlib.pyplot as plt\n",
    "%matplotlib inline\n",
    "\n",
    "\n",
    "import json\n",
    "import os\n",
    "\n",
    "from skimage.io import imread, imshow\n",
    "from skimage.filters import gaussian, threshold_otsu\n",
    "from skimage.feature import canny\n",
    "from skimage.transform import probabilistic_hough_line\n",
    "\n",
    "from sklearn.metrics import mean_absolute_error\n",
    "from sklearn.linear_model import LinearRegression\n",
    "from sklearn.metrics import mean_absolute_error\n",
    "\n",
    "from tensorflow.keras.models import Sequential\n",
    "from tensorflow.keras.layers import Dense\n",
    "\n",
    "import warnings\n",
    "warnings.filterwarnings('ignore')"
   ]
  },
  {
   "cell_type": "code",
   "execution_count": 2,
   "metadata": {},
   "outputs": [],
   "source": [
    "# Open json files\n",
    "with open('image_list.json') as train_data:\n",
    "    images = json.load(train_data)"
   ]
  },
  {
   "cell_type": "code",
   "execution_count": 3,
   "metadata": {},
   "outputs": [],
   "source": [
    "# Create dataframe with image names\n",
    "df = pd.DataFrame(data=images,columns=['images'])"
   ]
  },
  {
   "cell_type": "code",
   "execution_count": 4,
   "metadata": {},
   "outputs": [],
   "source": [
    "text_list = os.listdir('labels') # extract text labels"
   ]
  },
  {
   "cell_type": "code",
   "execution_count": 5,
   "metadata": {},
   "outputs": [],
   "source": [
    "result = []\n",
    "for angles in text_list:\n",
    "    f = open(f'labels\\{angles}','r')\n",
    "    result.append(f.readline())"
   ]
  },
  {
   "cell_type": "code",
   "execution_count": 6,
   "metadata": {},
   "outputs": [],
   "source": [
    "# Convert all strings on the list to float variables\n",
    "actual_rotation = []\n",
    "for i in result:\n",
    "    actual_rotation.append(float(i))"
   ]
  },
  {
   "cell_type": "code",
   "execution_count": 7,
   "metadata": {},
   "outputs": [],
   "source": [
    "first_image = imread('images/scan_000.png')"
   ]
  },
  {
   "cell_type": "code",
   "execution_count": 8,
   "metadata": {},
   "outputs": [
    {
     "name": "stdout",
     "output_type": "stream",
     "text": [
      "Initial image before undergoing filtering\n"
     ]
    },
    {
     "data": {
      "image/png": "[encoded data removed]",
      "text/plain": [
       "<Figure size 432x288 with 1 Axes>"
      ]
     },
     "metadata": {
      "needs_background": "light"
     },
     "output_type": "display_data"
    }
   ],
   "source": [
    "print('Initial image before undergoing filtering')\n",
    "imshow(first_image);"
   ]
  },
  {
   "cell_type": "code",
   "execution_count": 9,
   "metadata": {},
   "outputs": [
    {
     "data": {
      "text/plain": [
       "(566, 400)"
      ]
     },
     "execution_count": 9,
     "metadata": {},
     "output_type": "execute_result"
    }
   ],
   "source": [
    "first_image.shape"
   ]
  },
  {
   "cell_type": "markdown",
   "metadata": {},
   "source": [
    "### Analysis of the image before image filtering is applied"
   ]
  },
  {
   "cell_type": "markdown",
   "metadata": {},
   "source": [
    "### 1. Neural Network Model Construction"
   ]
  },
  {
   "cell_type": "code",
   "execution_count": 10,
   "metadata": {},
   "outputs": [],
   "source": [
    "def build_model():\n",
    "    model = Sequential([\n",
    "        Dense(64, activation='relu',input_shape=(train.shape[1],)),\n",
    "        Dense(64, activation='relu'),\n",
    "        Dense(1)\n",
    "    ])\n",
    "    model.compile(optimizer='rmsprop',loss='mse',metrics=['mae'])\n",
    "    return model"
   ]
  },
  {
   "cell_type": "code",
   "execution_count": 11,
   "metadata": {},
   "outputs": [],
   "source": [
    "my_images = [] # list to be filled with images\n",
    "\n",
    "# Loop function to process the images \n",
    "for img in images:\n",
    "    image = imread(f'images/{img}')\n",
    "    inverted_image = np.invert(image) # Black --> White, White --> Black\n",
    "    \n",
    "    inverted_image = inverted_image.reshape(inverted_image.shape[0] * inverted_image.shape[1])\n",
    "    inverted_image = inverted_image.astype('float32') / 255\n",
    "    my_images.append(inverted_image)"
   ]
  },
  {
   "cell_type": "code",
   "execution_count": 12,
   "metadata": {},
   "outputs": [],
   "source": [
    "my_images = np.array(my_images)"
   ]
  },
  {
   "cell_type": "code",
   "execution_count": 13,
   "metadata": {},
   "outputs": [
    {
     "data": {
      "text/plain": [
       "(500, 226400)"
      ]
     },
     "execution_count": 13,
     "metadata": {},
     "output_type": "execute_result"
    }
   ],
   "source": [
    "my_images.shape"
   ]
  },
  {
   "cell_type": "code",
   "execution_count": 14,
   "metadata": {},
   "outputs": [],
   "source": [
    "labels = np.array(actual_rotation)"
   ]
  },
  {
   "cell_type": "code",
   "execution_count": 15,
   "metadata": {},
   "outputs": [
    {
     "data": {
      "text/plain": [
       "500"
      ]
     },
     "execution_count": 15,
     "metadata": {},
     "output_type": "execute_result"
    }
   ],
   "source": [
    "len(my_images)"
   ]
  },
  {
   "cell_type": "code",
   "execution_count": 16,
   "metadata": {},
   "outputs": [
    {
     "data": {
      "text/plain": [
       "500"
      ]
     },
     "execution_count": 16,
     "metadata": {},
     "output_type": "execute_result"
    }
   ],
   "source": [
    "len(labels)"
   ]
  },
  {
   "cell_type": "code",
   "execution_count": 60,
   "metadata": {},
   "outputs": [
    {
     "name": "stdout",
     "output_type": "stream",
     "text": [
      "processing fold # 0\n",
      "processing fold # 1\n",
      "processing fold # 2\n",
      "processing fold # 3\n"
     ]
    }
   ],
   "source": [
    "k = 4 # number of folds\n",
    "train = my_images[:400]\n",
    "train_labels = labels[:400]\n",
    "test = my_images[400:]\n",
    "test_labels = labels[400:]\n",
    "num_val_samples = len(train) // k\n",
    "num_epochs = 50\n",
    "mae_scores = []\n",
    "val_mae_scores = []\n",
    "for i in range(k):\n",
    "    print('processing fold #', i)\n",
    "    val_images = train[i * num_val_samples: (i + 1) * num_val_samples]\n",
    "    val_labels = train_labels[i * num_val_samples: (i + 1) * num_val_samples]\n",
    "    \n",
    "    partial_train_images = np.concatenate([\n",
    "        train[:i * num_val_samples],\n",
    "        train[(i + 1) * num_val_samples:]\n",
    "    ],axis=0)\n",
    "    partial_train_labels = np.concatenate([\n",
    "        train_labels[:i * num_val_samples],\n",
    "        train_labels[(i + 1) * num_val_samples:]\n",
    "    ],axis=0)\n",
    "    \n",
    "    model = build_model()\n",
    "    history = model.fit(partial_train_images, partial_train_labels, \n",
    "                        validation_data=(val_images, val_labels),\n",
    "                        epochs=num_epochs, batch_size=1, verbose=0)\n",
    "    val_mae_scores.append(history.history['val_mae'])\n",
    "    mae_scores.append(history.history['mae'])"
   ]
  },
  {
   "cell_type": "code",
   "execution_count": 61,
   "metadata": {},
   "outputs": [],
   "source": [
    "average_val_mae_history_unfiltered = [\n",
    "    np.mean([x[i] for x in val_mae_scores]) for i in range(num_epochs)\n",
    "]"
   ]
  },
  {
   "cell_type": "code",
   "execution_count": 62,
   "metadata": {},
   "outputs": [],
   "source": [
    "average_mae_history_unfiltered = [\n",
    "    np.mean([x[i] for x in mae_scores]) for i in range(num_epochs)\n",
    "]"
   ]
  },
  {
   "cell_type": "code",
   "execution_count": 65,
   "metadata": {},
   "outputs": [
    {
     "data": {
      "text/plain": [
       "<matplotlib.legend.Legend at 0x184493a9ba8>"
      ]
     },
     "execution_count": 65,
     "metadata": {},
     "output_type": "execute_result"
    },
    {
     "data": {
      "image/png": "[encoded data removed]",
      "text/plain": [
       "<Figure size 1080x432 with 1 Axes>"
      ]
     },
     "metadata": {
      "needs_background": "light"
     },
     "output_type": "display_data"
    }
   ],
   "source": [
    "# The requirement is to get MAE less than 1 degree\n",
    "plt.figure(figsize=(15,6))\n",
    "plt.plot(range(1, len(average_val_mae_history_unfiltered) + 1), average_val_mae_history_unfiltered, 'b', label='Validation MAE')\n",
    "plt.plot(range(1, len(average_mae_history_unfiltered) + 1), average_mae_history_unfiltered, 'bo', label='Training MAE')\n",
    "plt.title('Training and validation MAE')\n",
    "plt.xlabel('Epochs')\n",
    "plt.ylabel('Validation MAE');\n",
    "plt.legend()"
   ]
  },
  {
   "cell_type": "code",
   "execution_count": 66,
   "metadata": {},
   "outputs": [
    {
     "name": "stdout",
     "output_type": "stream",
     "text": [
      "Train on 400 samples\n",
      "Epoch 1/9\n",
      "400/400 [==============================] - 5s 11ms/sample - loss: 0.3213 - mae: 0.4073\n",
      "Epoch 2/9\n",
      "400/400 [==============================] - 4s 10ms/sample - loss: 0.2096 - mae: 0.3427\n",
      "Epoch 3/9\n",
      "400/400 [==============================] - 4s 10ms/sample - loss: 0.2348 - mae: 0.3638\n",
      "Epoch 4/9\n",
      "400/400 [==============================] - 4s 10ms/sample - loss: 0.2064 - mae: 0.3238\n",
      "Epoch 5/9\n",
      "400/400 [==============================] - 4s 10ms/sample - loss: 0.2758 - mae: 0.3746\n",
      "Epoch 6/9\n",
      "400/400 [==============================] - 4s 10ms/sample - loss: 0.2274 - mae: 0.3459\n",
      "Epoch 7/9\n",
      "400/400 [==============================] - 4s 10ms/sample - loss: 0.2302 - mae: 0.3298\n",
      "Epoch 8/9\n",
      "400/400 [==============================] - 4s 10ms/sample - loss: 0.1941 - mae: 0.3197\n",
      "Epoch 9/9\n",
      "400/400 [==============================] - 4s 10ms/sample - loss: 0.2085 - mae: 0.3415\n"
     ]
    },
    {
     "data": {
      "text/plain": [
       "<tensorflow.python.keras.callbacks.History at 0x18452fed6d8>"
      ]
     },
     "execution_count": 66,
     "metadata": {},
     "output_type": "execute_result"
    }
   ],
   "source": [
    "model.fit(train, train_labels, epochs=9, batch_size=20)"
   ]
  },
  {
   "cell_type": "code",
   "execution_count": 68,
   "metadata": {},
   "outputs": [
    {
     "name": "stdout",
     "output_type": "stream",
     "text": [
      "100/1 [========================================================================================================================================================================================================================================================================================================================================================================================================================================================================================================================================================================================================================================================================================================================================================================================================================================================================================================================================================================================================================================================================================================================================================================================================================================================================================================================================================================================================================================================================================================================================================================================================================================================================================================================================================================================================================================================================================================================================================================================================================================================================================================================================================================================================================================================================================================================================================================================================================================================================================================================================================================================================================================================================================================================================================================================================================================================================================================================================================================================================================================================================================================================] - 0s 4ms/sample - loss: 0.2358 - mae: 0.3638\n"
     ]
    }
   ],
   "source": [
    "_, mae_unfiltered_nn = model.evaluate(test, test_labels)"
   ]
  },
  {
   "cell_type": "code",
   "execution_count": 69,
   "metadata": {},
   "outputs": [
    {
     "name": "stdout",
     "output_type": "stream",
     "text": [
      "The mean absolute error is 0.36376676\n"
     ]
    }
   ],
   "source": [
    "print('The mean absolute error is', mae_unfiltered_nn)"
   ]
  },
  {
   "cell_type": "markdown",
   "metadata": {},
   "source": [
    "### Analysis when image is filtered"
   ]
  },
  {
   "cell_type": "code",
   "execution_count": 70,
   "metadata": {},
   "outputs": [],
   "source": [
    "myimages = [] # list to be filled with images\n",
    "\n",
    "# Loop function to process the images and apply necessary filtering\n",
    "for img in images:\n",
    "    image = imread(f'images/{img}')\n",
    "    inverted_image = np.invert(image) # Black --> White, White --> Black\n",
    "    for i in range(inverted_image.shape[0]):\n",
    "        for j in range(inverted_image.shape[1]):\n",
    "            if inverted_image[i,j] != 0:\n",
    "                # Starting from the top-left corner of a 3x3 Grid and going clockwise around the center of the grid \n",
    "                # This will display data of surrounding blocks from the central point (i.e) point of interest\n",
    "                mylist = [\n",
    "                    [i-1,j-1], # top-left\n",
    "                    [i-1,j], # top-center\n",
    "                    [i-1,j+1], # top-right\n",
    "                    [i,j+1], # mid-right\n",
    "                    [i+1,j+1], # bottom-right\n",
    "                    [i+1,j], # bottom-center\n",
    "                    [i+1,j-1], # bottom-left\n",
    "                    [i,j-1] # mid-left\n",
    "                ] # Negative number means the grid is off the image, therefore discard only a pair with at least one negative number\n",
    "                img_list = [[x,y] for x,y in mylist if x >= 0 and y >= 0 and x < inverted_image.shape[0] and y < inverted_image.shape[1]]\n",
    "\n",
    "                # The img_list must run through the inverted image\n",
    "                pixel = 0 \n",
    "                for nums in img_list:\n",
    "                    pixel += inverted_image[nums[0],nums[1]] \n",
    "                \n",
    "                # Removing the salt & pepper from the image\n",
    "                if pixel == 0: #checking if the white dot is surrounded by black space hence why I inverted the image\n",
    "                    inverted_image[i,j] = 0 #i.e if true remove the white dot and turn it black\n",
    "    \n",
    "    inverted_image = inverted_image.reshape(inverted_image.shape[0] * inverted_image.shape[1])\n",
    "    inverted_image = inverted_image.astype('float32') / 255\n",
    "    myimages.append(inverted_image)"
   ]
  },
  {
   "cell_type": "code",
   "execution_count": 71,
   "metadata": {},
   "outputs": [
    {
     "name": "stdout",
     "output_type": "stream",
     "text": [
      "Initial image before undergoing filtering - inverted\n"
     ]
    },
    {
     "data": {
      "image/png": "[encoded data removed]",
      "text/plain": [
       "<Figure size 432x288 with 1 Axes>"
      ]
     },
     "metadata": {
      "needs_background": "light"
     },
     "output_type": "display_data"
    }
   ],
   "source": [
    "print('Initial image before undergoing filtering - inverted')\n",
    "imshow(np.invert(first_image));"
   ]
  },
  {
   "cell_type": "code",
   "execution_count": 72,
   "metadata": {},
   "outputs": [
    {
     "name": "stdout",
     "output_type": "stream",
     "text": [
      "Image after undergoing processing and filtering\n"
     ]
    },
    {
     "data": {
      "image/png": "[encoded data removed]",
      "text/plain": [
       "<Figure size 432x288 with 1 Axes>"
      ]
     },
     "metadata": {
      "needs_background": "light"
     },
     "output_type": "display_data"
    }
   ],
   "source": [
    "print('Image after undergoing processing and filtering')\n",
    "imshow(myimages[0].reshape(566, 400));"
   ]
  },
  {
   "cell_type": "code",
   "execution_count": 73,
   "metadata": {},
   "outputs": [],
   "source": [
    "myimages = np.array(myimages)"
   ]
  },
  {
   "cell_type": "code",
   "execution_count": 74,
   "metadata": {},
   "outputs": [
    {
     "data": {
      "text/plain": [
       "(500, 226400)"
      ]
     },
     "execution_count": 74,
     "metadata": {},
     "output_type": "execute_result"
    }
   ],
   "source": [
    "myimages.shape"
   ]
  },
  {
   "cell_type": "code",
   "execution_count": 75,
   "metadata": {},
   "outputs": [],
   "source": [
    "labels = np.array(actual_rotation)"
   ]
  },
  {
   "cell_type": "code",
   "execution_count": 76,
   "metadata": {},
   "outputs": [
    {
     "name": "stdout",
     "output_type": "stream",
     "text": [
      "processing fold # 0\n",
      "processing fold # 1\n",
      "processing fold # 2\n",
      "processing fold # 3\n"
     ]
    }
   ],
   "source": [
    "k = 4 # number of folds\n",
    "train = myimages[:400]\n",
    "train_labels = labels[:400]\n",
    "test = myimages[400:]\n",
    "test_labels = labels[400:]\n",
    "num_val_samples = len(train) // k\n",
    "num_epochs = 50\n",
    "all_scores = []\n",
    "for i in range(k):\n",
    "    print('processing fold #', i)\n",
    "    val_images = train[i * num_val_samples: (i + 1) * num_val_samples]\n",
    "    val_labels = train_labels[i * num_val_samples: (i + 1) * num_val_samples]\n",
    "    \n",
    "    partial_train_images = np.concatenate([\n",
    "        train[:i * num_val_samples],\n",
    "        train[(i + 1) * num_val_samples:]\n",
    "    ],axis=0)\n",
    "    partial_train_labels = np.concatenate([\n",
    "        train_labels[:i * num_val_samples],\n",
    "        train_labels[(i + 1) * num_val_samples:]\n",
    "    ],axis=0)\n",
    "    \n",
    "    model = build_model()\n",
    "    history = model.fit(partial_train_images, partial_train_labels, \n",
    "                        validation_data=(val_images, val_labels),\n",
    "                        epochs=num_epochs, batch_size=1, verbose=0)\n",
    "    val_mae_scores.append(history.history['val_mae'])\n",
    "    mae_scores.append(history.history['mae'])"
   ]
  },
  {
   "cell_type": "code",
   "execution_count": 77,
   "metadata": {},
   "outputs": [],
   "source": [
    "average_val_mae_history_filtered = [\n",
    "    np.mean([x[i] for x in val_mae_scores]) for i in range(num_epochs)\n",
    "]"
   ]
  },
  {
   "cell_type": "code",
   "execution_count": 78,
   "metadata": {},
   "outputs": [],
   "source": [
    "average_mae_history_filtered = [\n",
    "    np.mean([x[i] for x in mae_scores]) for i in range(num_epochs)\n",
    "]"
   ]
  },
  {
   "cell_type": "code",
   "execution_count": 79,
   "metadata": {},
   "outputs": [
    {
     "data": {
      "text/plain": [
       "<matplotlib.legend.Legend at 0x1844dc88940>"
      ]
     },
     "execution_count": 79,
     "metadata": {},
     "output_type": "execute_result"
    },
    {
     "data": {
      "image/png": "[encoded data removed]",
      "text/plain": [
       "<Figure size 1080x432 with 1 Axes>"
      ]
     },
     "metadata": {
      "needs_background": "light"
     },
     "output_type": "display_data"
    }
   ],
   "source": [
    "plt.figure(figsize=(15,6))\n",
    "plt.plot(range(1, len(average_val_mae_history_filtered) + 1), average_val_mae_history_filtered, 'b', label='Validation MAE')\n",
    "plt.plot(range(1, len(average_mae_history_filtered) + 1), average_mae_history_filtered, 'bo', label='Training MAE')\n",
    "plt.title('Training and validation MAE')\n",
    "plt.xlabel('Epochs')\n",
    "plt.ylabel('Validation MAE');\n",
    "plt.legend()"
   ]
  },
  {
   "cell_type": "code",
   "execution_count": 80,
   "metadata": {},
   "outputs": [
    {
     "name": "stdout",
     "output_type": "stream",
     "text": [
      "Train on 400 samples\n",
      "Epoch 1/12\n",
      "400/400 [==============================] - 8s 19ms/sample - loss: 0.2703 - mae: 0.3926\n",
      "Epoch 2/12\n",
      "400/400 [==============================] - 4s 10ms/sample - loss: 0.2427 - mae: 0.3660\n",
      "Epoch 3/12\n",
      "400/400 [==============================] - 4s 10ms/sample - loss: 0.1836 - mae: 0.2986\n",
      "Epoch 4/12\n",
      "400/400 [==============================] - 4s 10ms/sample - loss: 0.2296 - mae: 0.3457\n",
      "Epoch 5/12\n",
      "400/400 [==============================] - 4s 10ms/sample - loss: 0.2263 - mae: 0.3448\n",
      "Epoch 6/12\n",
      "400/400 [==============================] - 4s 10ms/sample - loss: 0.1748 - mae: 0.3141\n",
      "Epoch 7/12\n",
      "400/400 [==============================] - 4s 10ms/sample - loss: 0.1790 - mae: 0.3149\n",
      "Epoch 8/12\n",
      "400/400 [==============================] - 4s 10ms/sample - loss: 0.1404 - mae: 0.2799\n",
      "Epoch 9/12\n",
      "400/400 [==============================] - 4s 10ms/sample - loss: 0.1747 - mae: 0.3155\n",
      "Epoch 10/12\n",
      "400/400 [==============================] - 4s 10ms/sample - loss: 0.1584 - mae: 0.2876\n",
      "Epoch 11/12\n",
      "400/400 [==============================] - 4s 10ms/sample - loss: 0.1569 - mae: 0.2975\n",
      "Epoch 12/12\n",
      "400/400 [==============================] - 4s 10ms/sample - loss: 0.1559 - mae: 0.2995\n"
     ]
    },
    {
     "data": {
      "text/plain": [
       "<tensorflow.python.keras.callbacks.History at 0x1844dd7b588>"
      ]
     },
     "execution_count": 80,
     "metadata": {},
     "output_type": "execute_result"
    }
   ],
   "source": [
    "model.fit(train, train_labels, epochs=12, batch_size=20)"
   ]
  },
  {
   "cell_type": "code",
   "execution_count": 81,
   "metadata": {},
   "outputs": [
    {
     "name": "stdout",
     "output_type": "stream",
     "text": [
      "100/1 [========================================================================================================================================================================================================================================================================================================================================================================================================================================================================================================================================================================================================================================================================================================================================================================================================================================================================================================================================================================================================================================================================================================================================================================================================================================================================================================================================================================================================================================================================================================================================================================================================================================================================================================================================================================================================================================================================================================================================================================================================================================================================================================================================================================================================================================================================================================================================================================================================================================================================================================================================================================================================================================================================================================================================================================================================================================================================================================================================================================================================================================================================================================================] - 0s 3ms/sample - loss: 0.1587 - mae: 0.3493\n"
     ]
    }
   ],
   "source": [
    "_, mae_filtered_nn = model.evaluate(test, test_labels)"
   ]
  },
  {
   "cell_type": "code",
   "execution_count": 82,
   "metadata": {},
   "outputs": [
    {
     "name": "stdout",
     "output_type": "stream",
     "text": [
      "The mean absolute error is 0.34927773\n",
      "Unfiltered image MAE is 0.36376676\n"
     ]
    }
   ],
   "source": [
    "print('The mean absolute error is', mae_filtered_nn)\n",
    "print('Unfiltered image MAE is', mae_unfiltered_nn)"
   ]
  },
  {
   "cell_type": "markdown",
   "metadata": {},
   "source": [
    "### 2. Linear regression "
   ]
  },
  {
   "cell_type": "code",
   "execution_count": 83,
   "metadata": {},
   "outputs": [],
   "source": [
    "estimated_rotation = [] # list to be filled \n",
    "\n",
    "for img in images:\n",
    "    image = imread(f'images/{img}')\n",
    "    inverted_image = np.invert(image) # Black --> White, White --> Black\n",
    "    for i in range(inverted_image.shape[0]):\n",
    "        for j in range(inverted_image.shape[1]):\n",
    "            if inverted_image[i,j] != 0:\n",
    "                # Starting from the top-left corner of a 3x3 Grid and going clockwise around the center of the grid \n",
    "                # This will display data of surrounding blocks from the central point (i.e) point of interest\n",
    "                mylist = [\n",
    "                    [i-1,j-1], # top-left\n",
    "                    [i-1,j], # top-center\n",
    "                    [i-1,j+1], # top-right\n",
    "                    [i,j+1], # mid-right\n",
    "                    [i+1,j+1], # bottom-right\n",
    "                    [i+1,j], # bottom-center\n",
    "                    [i+1,j-1], # bottom-left\n",
    "                    [i,j-1] # mid-left\n",
    "                ] # Negative number means the grid is off the image, therefore discard only a pair with at least one negative number\n",
    "                img_list = [[x,y] for x,y in mylist if x >= 0 and y >= 0 and x < inverted_image.shape[0] and y < inverted_image.shape[1]]\n",
    "\n",
    "                # The img_list must run through the inverted image\n",
    "                pixel = 0 \n",
    "                for nums in img_list:\n",
    "                    pixel += inverted_image[nums[0],nums[1]] \n",
    "\n",
    "                if np.sum(pixel) == 0: #checking if the white dot is surrounded by black space hence why I inverted the image\n",
    "                    inverted_image[i,j] = 0 #i.e if true remove the white dot and turn it black\n",
    "\n",
    "    # To get rid of more noise missed\n",
    "    thresh = threshold_otsu(inverted_image)\n",
    "    normalize = image > thresh\n",
    "\n",
    "    # Apply gaussian blur\n",
    "    blur = gaussian(normalize, 3)\n",
    "\n",
    "    # Increase the smoothing for better results\n",
    "    edges = canny(blur)\n",
    "\n",
    "    # Hough Lines\n",
    "    hough_lines = probabilistic_hough_line(edges)\n",
    "\n",
    "    # Calculate slope from hough lines, i.e. (change in y)/(change in x) \n",
    "    slopes = [(y2 - y1)/(x2 - x1) if (x2 - x1) else 0 for (x1, y1), (x2, y2) in hough_lines]\n",
    "\n",
    "    # calc rotation in radians\n",
    "    rad_angles = [np.arctan(x) for x in slopes]\n",
    "\n",
    "    # change the rotation from radians to degrees\n",
    "    deg_angles = [np.degrees(x) for x in rad_angles]\n",
    "\n",
    "    # determine the mode\n",
    "    hist_mode = np.histogram(deg_angles, bins=180)\n",
    "\n",
    "    # correcting for 'sideways' alignments\n",
    "    rotation = hist_mode[1][np.argmax(hist_mode[0])] \n",
    "    estimated_rotation.append(rotation)"
   ]
  },
  {
   "cell_type": "code",
   "execution_count": 105,
   "metadata": {},
   "outputs": [],
   "source": [
    "mydf = pd.DataFrame(data=estimated_rotation, columns=['estimate'])"
   ]
  },
  {
   "cell_type": "code",
   "execution_count": 106,
   "metadata": {},
   "outputs": [],
   "source": [
    "mydf['actual'] = actual_rotation"
   ]
  },
  {
   "cell_type": "code",
   "execution_count": 109,
   "metadata": {},
   "outputs": [
    {
     "data": {
      "text/html": [
       "<div>\n",
       "<style scoped>\n",
       "    .dataframe tbody tr th:only-of-type {\n",
       "        vertical-align: middle;\n",
       "    }\n",
       "\n",
       "    .dataframe tbody tr th {\n",
       "        vertical-align: top;\n",
       "    }\n",
       "\n",
       "    .dataframe thead th {\n",
       "        text-align: right;\n",
       "    }\n",
       "</style>\n",
       "<table border=\"1\" class=\"dataframe\">\n",
       "  <thead>\n",
       "    <tr style=\"text-align: right;\">\n",
       "      <th></th>\n",
       "      <th>estimate</th>\n",
       "      <th>actual</th>\n",
       "    </tr>\n",
       "  </thead>\n",
       "  <tbody>\n",
       "    <tr>\n",
       "      <th>0</th>\n",
       "      <td>-0.385354</td>\n",
       "      <td>-0.337674</td>\n",
       "    </tr>\n",
       "    <tr>\n",
       "      <th>1</th>\n",
       "      <td>2.092376</td>\n",
       "      <td>-2.227033</td>\n",
       "    </tr>\n",
       "    <tr>\n",
       "      <th>2</th>\n",
       "      <td>4.464840</td>\n",
       "      <td>-4.725058</td>\n",
       "    </tr>\n",
       "    <tr>\n",
       "      <th>3</th>\n",
       "      <td>4.808015</td>\n",
       "      <td>-4.799024</td>\n",
       "    </tr>\n",
       "    <tr>\n",
       "      <th>4</th>\n",
       "      <td>0.877921</td>\n",
       "      <td>-0.920912</td>\n",
       "    </tr>\n",
       "  </tbody>\n",
       "</table>\n",
       "</div>"
      ],
      "text/plain": [
       "   estimate    actual\n",
       "0 -0.385354 -0.337674\n",
       "1  2.092376 -2.227033\n",
       "2  4.464840 -4.725058\n",
       "3  4.808015 -4.799024\n",
       "4  0.877921 -0.920912"
      ]
     },
     "execution_count": 109,
     "metadata": {},
     "output_type": "execute_result"
    }
   ],
   "source": [
    "mydf.head()"
   ]
  },
  {
   "cell_type": "code",
   "execution_count": 150,
   "metadata": {},
   "outputs": [
    {
     "data": {
      "text/plain": [
       "(500, 2)"
      ]
     },
     "execution_count": 150,
     "metadata": {},
     "output_type": "execute_result"
    }
   ],
   "source": [
    "mydf.shape"
   ]
  },
  {
   "cell_type": "code",
   "execution_count": 115,
   "metadata": {},
   "outputs": [],
   "source": [
    "# Training dataset\n",
    "rotation_train = mydf[:300]\n",
    "\n",
    "# Validation dataset\n",
    "rotation_valid = mydf[300:400]\n",
    "\n",
    "# Testing dataset\n",
    "rotation_test = mydf[400:]"
   ]
  },
  {
   "cell_type": "code",
   "execution_count": 151,
   "metadata": {},
   "outputs": [
    {
     "data": {
      "text/plain": [
       "(300, 2)"
      ]
     },
     "execution_count": 151,
     "metadata": {},
     "output_type": "execute_result"
    }
   ],
   "source": [
    "rotation_train.shape"
   ]
  },
  {
   "cell_type": "code",
   "execution_count": 116,
   "metadata": {},
   "outputs": [
    {
     "data": {
      "image/png": "[encoded data removed]",
      "text/plain": [
       "<Figure size 720x432 with 1 Axes>"
      ]
     },
     "metadata": {
      "needs_background": "light"
     },
     "output_type": "display_data"
    }
   ],
   "source": [
    "# Check the relationship between calculated image rotation angle and actual image rotation angle\n",
    "plt.figure(figsize=(10,6))\n",
    "plt.scatter(x=rotation_train['estimate'], y=rotation_train['actual'])\n",
    "plt.title('Actual vs Estimated Angles')\n",
    "plt.ylabel('actual rotation')\n",
    "plt.xlabel('estimated rotation');"
   ]
  },
  {
   "cell_type": "markdown",
   "metadata": {},
   "source": [
    "There's a negative relationship between estimated rotation and actual rotation. This might be due to different reference point for determining the angle of the skewed document."
   ]
  },
  {
   "cell_type": "code",
   "execution_count": 117,
   "metadata": {},
   "outputs": [],
   "source": [
    "lr = LinearRegression()"
   ]
  },
  {
   "cell_type": "code",
   "execution_count": 157,
   "metadata": {},
   "outputs": [],
   "source": [
    "X_train = np.array(rotation_train['estimate']).reshape(-1,1)\n",
    "y_train = np.array(rotation_train['actual']).reshape(-1,1)"
   ]
  },
  {
   "cell_type": "code",
   "execution_count": 159,
   "metadata": {},
   "outputs": [
    {
     "data": {
      "text/plain": [
       "LinearRegression(copy_X=True, fit_intercept=True, n_jobs=None,\n",
       "         normalize=False)"
      ]
     },
     "execution_count": 159,
     "metadata": {},
     "output_type": "execute_result"
    }
   ],
   "source": [
    "lr.fit(X_train, y_train)"
   ]
  },
  {
   "cell_type": "code",
   "execution_count": 160,
   "metadata": {},
   "outputs": [],
   "source": [
    "X_valid = np.array(rotation_valid['estimate'], ndmin=2).reshape(-1, 1)\n",
    "y_valid = np.array(rotation_valid['actual'], ndmin=2).reshape(-1, 1)"
   ]
  },
  {
   "cell_type": "code",
   "execution_count": 161,
   "metadata": {},
   "outputs": [],
   "source": [
    "# predictions of validation data\n",
    "pred_valid = lr.predict(X_valid)"
   ]
  },
  {
   "cell_type": "code",
   "execution_count": 163,
   "metadata": {},
   "outputs": [
    {
     "name": "stdout",
     "output_type": "stream",
     "text": [
      "The mean absolute error for linear regression on validation data is: 0.30381304967196715\n"
     ]
    }
   ],
   "source": [
    "mae_valid = mean_absolute_error(y_valid, pred_valid)\n",
    "print(f'The mean absolute error for linear regression on validation data is: {mae_valid}')"
   ]
  },
  {
   "cell_type": "code",
   "execution_count": 164,
   "metadata": {},
   "outputs": [],
   "source": [
    "X_test = np.array(rotation_test['estimate']).reshape(-1, 1)\n",
    "y_test = np.array(rotation_test['actual']).reshape(-1, 1)"
   ]
  },
  {
   "cell_type": "code",
   "execution_count": 165,
   "metadata": {},
   "outputs": [],
   "source": [
    "pred_test = lr.predict(X_test)"
   ]
  },
  {
   "cell_type": "code",
   "execution_count": 166,
   "metadata": {},
   "outputs": [
    {
     "name": "stdout",
     "output_type": "stream",
     "text": [
      "The mean absolute error for linear regression on the test data is: 0.32790778070252435\n"
     ]
    }
   ],
   "source": [
    "mae_test = mean_absolute_error(y_test, pred_test)\n",
    "print(f'The mean absolute error for linear regression on the test data is: {mae_test}')"
   ]
  },
  {
   "cell_type": "markdown",
   "metadata": {},
   "source": [
    "### Summary"
   ]
  },
  {
   "cell_type": "code",
   "execution_count": 168,
   "metadata": {},
   "outputs": [],
   "source": [
    "summary = {\n",
    "    'Neural Nets (unfiltered image)': mae_unfiltered_nn,\n",
    "    'Neural Nets (filtered image)': mae_filtered_nn,\n",
    "    'Linear Regression': mae_test\n",
    "}"
   ]
  },
  {
   "cell_type": "code",
   "execution_count": 181,
   "metadata": {},
   "outputs": [],
   "source": [
    "results = pd.DataFrame(data=summary.values(), columns=['MAE'], index=[x for x in summary.keys()])"
   ]
  },
  {
   "cell_type": "code",
   "execution_count": 182,
   "metadata": {},
   "outputs": [
    {
     "data": {
      "text/html": [
       "<div>\n",
       "<style scoped>\n",
       "    .dataframe tbody tr th:only-of-type {\n",
       "        vertical-align: middle;\n",
       "    }\n",
       "\n",
       "    .dataframe tbody tr th {\n",
       "        vertical-align: top;\n",
       "    }\n",
       "\n",
       "    .dataframe thead th {\n",
       "        text-align: right;\n",
       "    }\n",
       "</style>\n",
       "<table border=\"1\" class=\"dataframe\">\n",
       "  <thead>\n",
       "    <tr style=\"text-align: right;\">\n",
       "      <th></th>\n",
       "      <th>MAE</th>\n",
       "    </tr>\n",
       "  </thead>\n",
       "  <tbody>\n",
       "    <tr>\n",
       "      <th>Neural Nets (unfiltered image)</th>\n",
       "      <td>0.363767</td>\n",
       "    </tr>\n",
       "    <tr>\n",
       "      <th>Neural Nets (filtered image)</th>\n",
       "      <td>0.349278</td>\n",
       "    </tr>\n",
       "    <tr>\n",
       "      <th>Linear Regression</th>\n",
       "      <td>0.327908</td>\n",
       "    </tr>\n",
       "  </tbody>\n",
       "</table>\n",
       "</div>"
      ],
      "text/plain": [
       "                                     MAE\n",
       "Neural Nets (unfiltered image)  0.363767\n",
       "Neural Nets (filtered image)    0.349278\n",
       "Linear Regression               0.327908"
      ]
     },
     "execution_count": 182,
     "metadata": {},
     "output_type": "execute_result"
    }
   ],
   "source": [
    "results"
   ]
  }
 ],
 "metadata": {
  "kernelspec": {
   "display_name": "Python 3",
   "language": "python",
   "name": "python3"
  },
  "language_info": {
   "codemirror_mode": {
    "name": "ipython",
    "version": 3
   },
   "file_extension": ".py",
   "mimetype": "text/x-python",
   "name": "python",
   "nbconvert_exporter": "python",
   "pygments_lexer": "ipython3",
   "version": "3.7.1"
  }
 },
 "nbformat": 4,
 "nbformat_minor": 4
}
